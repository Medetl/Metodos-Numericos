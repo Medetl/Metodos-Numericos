{
 "cells": [
  {
   "cell_type": "markdown",
   "id": "798851b6",
   "metadata": {},
   "source": [
    "# <font color=\"blue\">Sistemas Numéricos</font>"
   ]
  },
  {
   "cell_type": "code",
   "execution_count": 2,
   "id": "2e4cee81",
   "metadata": {},
   "outputs": [
    {
     "name": "stdout",
     "output_type": "stream",
     "text": [
      "26  en base 10 es  26\n",
      "26  en base 2 es  0b11010\n",
      "26  en base 8 es  0o32\n",
      "26  en base 16 es  0x1a\n"
     ]
    }
   ],
   "source": [
    "numero =26\n",
    "print ( numero , ' en base 10 es ',numero )\n",
    "print ( numero , ' en base 2 es ', bin( numero ))\n",
    "print ( numero , ' en base 8 es ', oct( numero ))\n",
    "print ( numero , ' en base 16 es ', hex( numero ))"
   ]
  },
  {
   "cell_type": "code",
   "execution_count": null,
   "id": "6eba1b8e",
   "metadata": {},
   "outputs": [],
   "source": []
  }
 ],
 "metadata": {
  "kernelspec": {
   "display_name": "Python 3 (ipykernel)",
   "language": "python",
   "name": "python3"
  },
  "language_info": {
   "codemirror_mode": {
    "name": "ipython",
    "version": 3
   },
   "file_extension": ".py",
   "mimetype": "text/x-python",
   "name": "python",
   "nbconvert_exporter": "python",
   "pygments_lexer": "ipython3",
   "version": "3.7.3"
  }
 },
 "nbformat": 4,
 "nbformat_minor": 5
}
