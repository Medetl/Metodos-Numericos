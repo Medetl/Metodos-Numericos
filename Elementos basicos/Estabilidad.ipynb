{
 "cells": [
  {
   "cell_type": "markdown",
   "id": "eacfbc0f",
   "metadata": {},
   "source": [
    "### Ejemplo"
   ]
  },
  {
   "cell_type": "markdown",
   "id": "54523341",
   "metadata": {},
   "source": [
    "$$P_n=\\Bigg(\\frac{1}{3}\\Bigg)^n$$"
   ]
  },
  {
   "cell_type": "code",
   "execution_count": null,
   "id": "ce811017",
   "metadata": {},
   "outputs": [],
   "source": [
    "def f(n):\n",
    "    p0=1\n",
    "    for i in range(n):\n",
    "        p0=p0/3\n",
    "    return p0"
   ]
  },
  {
   "cell_type": "code",
   "execution_count": null,
   "id": "7053ae2f",
   "metadata": {},
   "outputs": [],
   "source": [
    "f(50)"
   ]
  },
  {
   "cell_type": "markdown",
   "id": "7308da18",
   "metadata": {},
   "source": [
    "Si $P_0=1$, $P_1=\\frac{1}{3}$ y $P_n=\\frac{10}{3}P_{n-1}-P_{n-2}$"
   ]
  },
  {
   "cell_type": "code",
   "execution_count": null,
   "id": "9fd91757",
   "metadata": {},
   "outputs": [],
   "source": [
    "def calcular_P(n):\n",
    "    if n == 0:\n",
    "        return 1\n",
    "    elif n == 1:\n",
    "        return 1/3\n",
    "    \n",
    "    P_0, P_1 = 1, 1/3\n",
    "    for i in range(2, n + 1):\n",
    "        P_n = (10/3) * P_1 - P_0\n",
    "        P_0, P_1 = P_1, P_n\n",
    "    \n",
    "    return P_n"
   ]
  },
  {
   "cell_type": "code",
   "execution_count": null,
   "id": "e67a7701",
   "metadata": {},
   "outputs": [],
   "source": [
    "# Calculamos el término P_50\n",
    "resultado = calcular_P(50)\n",
    "print(resultado)"
   ]
  },
  {
   "cell_type": "markdown",
   "id": "aa61cee5",
   "metadata": {},
   "source": [
    "Mostrar que las secuencias son equivalentes.\n",
    "\n",
    "Calcular los errores: absoluto, relativo y porcentual.\n",
    "\n",
    "Explicar el origen del error.\n",
    "\n",
    "Discutir la estabilidad de los algoritmos."
   ]
  },
  {
   "cell_type": "code",
   "execution_count": null,
   "id": "1954a983",
   "metadata": {},
   "outputs": [],
   "source": []
  }
 ],
 "metadata": {
  "kernelspec": {
   "display_name": "Python 3 (ipykernel)",
   "language": "python",
   "name": "python3"
  },
  "language_info": {
   "codemirror_mode": {
    "name": "ipython",
    "version": 3
   },
   "file_extension": ".py",
   "mimetype": "text/x-python",
   "name": "python",
   "nbconvert_exporter": "python",
   "pygments_lexer": "ipython3",
   "version": "3.7.3"
  }
 },
 "nbformat": 4,
 "nbformat_minor": 5
}
