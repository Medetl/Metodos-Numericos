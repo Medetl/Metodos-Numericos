{
 "cells": [
  {
   "cell_type": "code",
   "execution_count": null,
   "id": "78b10ad7",
   "metadata": {},
   "outputs": [],
   "source": [
    "import sympy as sp\n",
    "import numpy as np\n",
    "import matplotlib.pyplot as plt"
   ]
  },
  {
   "cell_type": "code",
   "execution_count": null,
   "id": "75d7d332",
   "metadata": {},
   "outputs": [],
   "source": [
    "x0=0\n",
    "n=7"
   ]
  },
  {
   "cell_type": "code",
   "execution_count": null,
   "id": "26595981",
   "metadata": {},
   "outputs": [],
   "source": [
    "x=sp.Symbol('x')"
   ]
  },
  {
   "cell_type": "code",
   "execution_count": null,
   "id": "beafac8b",
   "metadata": {},
   "outputs": [],
   "source": [
    "x**2"
   ]
  },
  {
   "cell_type": "code",
   "execution_count": null,
   "id": "e78b5ce3",
   "metadata": {},
   "outputs": [],
   "source": [
    "(x**2 -x+1)*(5*x**2-1)"
   ]
  },
  {
   "cell_type": "code",
   "execution_count": null,
   "id": "675080af",
   "metadata": {},
   "outputs": [],
   "source": [
    "sp.expand((x**2 -x+1)*(5*x**2-1))"
   ]
  },
  {
   "cell_type": "code",
   "execution_count": null,
   "id": "1ff51a2c",
   "metadata": {},
   "outputs": [],
   "source": [
    "expresion=-12*(x-1)**2+4*(x-1)**3+(x-1)**4"
   ]
  },
  {
   "cell_type": "code",
   "execution_count": null,
   "id": "dd9bd173",
   "metadata": {},
   "outputs": [],
   "source": [
    "expresion"
   ]
  },
  {
   "cell_type": "code",
   "execution_count": null,
   "id": "9ed3dce9",
   "metadata": {},
   "outputs": [],
   "source": [
    "sp.factor(expresion)"
   ]
  },
  {
   "cell_type": "code",
   "execution_count": null,
   "id": "348e2103",
   "metadata": {},
   "outputs": [],
   "source": [
    "t=sp.cos(x).series(x,x0,n).removeO()\n",
    "print(t)"
   ]
  },
  {
   "cell_type": "code",
   "execution_count": null,
   "id": "e45ce177",
   "metadata": {},
   "outputs": [],
   "source": [
    "t"
   ]
  },
  {
   "cell_type": "code",
   "execution_count": null,
   "id": "715d9e4c",
   "metadata": {},
   "outputs": [],
   "source": [
    "t=sp.lambdify(x,t,'numpy')"
   ]
  },
  {
   "cell_type": "code",
   "execution_count": null,
   "id": "fbe77aaa",
   "metadata": {},
   "outputs": [],
   "source": [
    "xx=np.linspace(x0-5,x0+5,1000)\n",
    "yc=np.cos(xx)\n",
    "yt=t(xx)"
   ]
  },
  {
   "cell_type": "code",
   "execution_count": null,
   "id": "6d6d8097",
   "metadata": {},
   "outputs": [],
   "source": [
    "plt.plot(xx,yc,xx,yt)\n",
    "plt.legend(['cos(x)','Serie de Taylor orden 6'])\n",
    "plt.title('Serie de Taylor de $f(x)=cos(x)$')\n",
    "plt.grid(True)\n",
    "\n",
    "#g.savefig('seriet.pdf', bbox_inches='tight')"
   ]
  },
  {
   "cell_type": "code",
   "execution_count": null,
   "id": "38258aad",
   "metadata": {},
   "outputs": [],
   "source": []
  }
 ],
 "metadata": {
  "kernelspec": {
   "display_name": "Python 3 (ipykernel)",
   "language": "python",
   "name": "python3"
  },
  "language_info": {
   "codemirror_mode": {
    "name": "ipython",
    "version": 3
   },
   "file_extension": ".py",
   "mimetype": "text/x-python",
   "name": "python",
   "nbconvert_exporter": "python",
   "pygments_lexer": "ipython3",
   "version": "3.7.3"
  }
 },
 "nbformat": 4,
 "nbformat_minor": 5
}
